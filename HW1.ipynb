{
 "cells": [
  {
   "cell_type": "markdown",
   "id": "82a02684-8dd0-4ab3-aee1-4c05f2c62fe0",
   "metadata": {},
   "source": [
    "# Data Loading"
   ]
  },
  {
   "cell_type": "code",
   "execution_count": 1,
   "id": "3675791b-7d60-45ea-b2e3-dbf287e53998",
   "metadata": {
    "tags": []
   },
   "outputs": [
    {
     "name": "stdout",
     "output_type": "stream",
     "text": [
      "\n",
      "loaded toy data!\n",
      "training_data (1000, 2)\n",
      "training_labels (1000,)\n",
      "test_data (0,)\n",
      "\n",
      "loaded mnist data!\n",
      "training_data (60000, 1, 28, 28)\n",
      "training_labels (60000,)\n",
      "test_data (10000, 1, 28, 28)\n",
      "\n",
      "loaded spam data!\n",
      "training_data (4171, 32)\n",
      "training_labels (4171,)\n",
      "test_data (1000, 32)\n"
     ]
    }
   ],
   "source": [
    "import sys\n",
    "if sys.version_info[0] < 3:\n",
    "    raise Exception(\"Python 3 not detected.\")\n",
    "\n",
    "import numpy as np\n",
    "import matplotlib.pyplot as plt\n",
    "from sklearn import svm\n",
    "from scipy import io\n",
    "\n",
    "if __name__ == \"__main__\":\n",
    "    for data_name in [\"toy\", \"mnist\", \"spam\"]:\n",
    "        data = np.load(f\"../cs189/data/{data_name}-data.npz\")\n",
    "        print(\"\\nloaded %s data!\" % data_name)\n",
    "        fields = \"training_data\", \"training_labels\", \"test_data\"\n",
    "        for field in fields:\n",
    "            print(field, data[field].shape)"
   ]
  },
  {
   "cell_type": "markdown",
   "id": "48c4ec93-f837-40f5-9712-3d28a48a16f5",
   "metadata": {},
   "source": [
    "# 3 Data Partitioning and Evaluation Metrics"
   ]
  },
  {
   "cell_type": "code",
   "execution_count": 9,
   "id": "224af1ca-9cf6-4986-9f9f-e39a9b1a506b",
   "metadata": {
    "tags": []
   },
   "outputs": [],
   "source": [
    "mnist = np.load(f\"../cs189/data/mnist-data.npz\")\n",
    "mnist_training_data, mnist_training_labels = mnist['training_data'], mnist['training_labels']\n",
    "\n",
    "spam = np.load(f\"../cs189/data/spam-data.npz\")\n",
    "spam_training_data, spam_training_labels = spam['training_data'], spam['training_labels']"
   ]
  },
  {
   "cell_type": "markdown",
   "id": "001dcdf2-2152-4cd2-85bc-10429dae3560",
   "metadata": {
    "tags": []
   },
   "source": [
    "### (a) Data partitioning"
   ]
  },
  {
   "cell_type": "code",
   "execution_count": 15,
   "id": "05936ed6-0404-427b-b3e5-e19545d418b1",
   "metadata": {
    "tags": []
   },
   "outputs": [],
   "source": [
    "# Function that shuffles data given a dataset and its labels\n",
    "def shuffle_data_labels(data, labels):\n",
    "    data_points = np.arange(data.shape[0])\n",
    "    np.random.shuffle(data_points)\n",
    "    return [data[data_points], labels[data_points]]\n",
    "\n",
    "# Shuffle the datasets\n",
    "mnist_training_data, mnist_training_labels = shuffle_data_labels(mnist_training_data, mnist_training_labels)\n",
    "spam_training_data, spam_training_labels = shuffle_data_labels(spam_training_data, spam_training_labels)\n",
    "\n",
    "# Partition the shuffled datasets\n",
    "mnist_training_set_data, mnist_training_set_labels = mnist_training_data[10000:, :], mnist_training_labels[10000:]\n",
    "mnist_validation_set_data, mnist_validation_set_labels = mnist_training_data[:10000, :], mnist_training_labels[:10000]\n",
    "\n",
    "spam_training_data_len = spam_training_data.shape[0]\n",
    "spam_training_set_data, spam_training_set_labels = spam_training_data[:int(0.8 * spam_training_data_len), :], spam_training_labels[:int(0.8 * spam_training_data_len)]\n",
    "spam_validation_set_data, spam_validation_set_labels = spam_training_data[int(0.8 * spam_training_data_len):, :], spam_training_labels[int(0.8 * spam_training_data_len):]"
   ]
  },
  {
   "cell_type": "markdown",
   "id": "0efccf6e-de7a-469e-9907-15a7c9788d25",
   "metadata": {},
   "source": [
    "### (b) Evaluation metric"
   ]
  },
  {
   "cell_type": "code",
   "execution_count": 16,
   "id": "e87bba8a-d0d4-4ace-96aa-6bbcb357865b",
   "metadata": {
    "tags": []
   },
   "outputs": [],
   "source": [
    "def classification_accuracy(true_labels, pred_labels):\n",
    "    return\n",
    "\n",
    "def indicator_func(true_label, pred_label):\n",
    "    return 1 if true_label == pred_label else 0"
   ]
  }
 ],
 "metadata": {
  "kernelspec": {
   "display_name": "Python 3 (ipykernel)",
   "language": "python",
   "name": "python3"
  },
  "language_info": {
   "codemirror_mode": {
    "name": "ipython",
    "version": 3
   },
   "file_extension": ".py",
   "mimetype": "text/x-python",
   "name": "python",
   "nbconvert_exporter": "python",
   "pygments_lexer": "ipython3",
   "version": "3.7.4"
  }
 },
 "nbformat": 4,
 "nbformat_minor": 5
}
