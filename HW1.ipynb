{
 "cells": [
  {
   "cell_type": "markdown",
   "id": "82a02684-8dd0-4ab3-aee1-4c05f2c62fe0",
   "metadata": {},
   "source": [
    "# Data Loading"
   ]
  },
  {
   "cell_type": "code",
   "execution_count": 28,
   "id": "3675791b-7d60-45ea-b2e3-dbf287e53998",
   "metadata": {
    "tags": []
   },
   "outputs": [],
   "source": [
    "import sys\n",
    "if sys.version_info[0] < 3:\n",
    "    raise Exception(\"Python 3 not detected.\")\n",
    "\n",
    "import random\n",
    "import numpy as np\n",
    "\n",
    "random.seed(189)\n",
    "np.random.seed(189)\n",
    "\n",
    "import matplotlib.pyplot as plt\n",
    "from sklearn import svm\n",
    "from sklearn.svm import SVC\n",
    "from scipy import io"
   ]
  },
  {
   "cell_type": "code",
   "execution_count": 2,
   "id": "af976c6b-9adf-4d93-84be-ae5508194092",
   "metadata": {},
   "outputs": [
    {
     "name": "stdout",
     "output_type": "stream",
     "text": [
      "\n",
      "loaded toy data!\n",
      "training_data (1000, 2)\n",
      "training_labels (1000,)\n",
      "test_data (0,)\n",
      "\n",
      "loaded mnist data!\n",
      "training_data (60000, 1, 28, 28)\n",
      "training_labels (60000,)\n",
      "test_data (10000, 1, 28, 28)\n",
      "\n",
      "loaded spam data!\n",
      "training_data (4171, 32)\n",
      "training_labels (4171,)\n",
      "test_data (1000, 32)\n"
     ]
    }
   ],
   "source": [
    "if __name__ == \"__main__\":\n",
    "    for data_name in [\"toy\", \"mnist\", \"spam\"]:\n",
    "        data = np.load(f\"../cs189/data/{data_name}-data.npz\")\n",
    "        print(\"\\nloaded %s data!\" % data_name)\n",
    "        fields = \"training_data\", \"training_labels\", \"test_data\"\n",
    "        for field in fields:\n",
    "            print(field, data[field].shape)"
   ]
  },
  {
   "cell_type": "markdown",
   "id": "48c4ec93-f837-40f5-9712-3d28a48a16f5",
   "metadata": {},
   "source": [
    "# 3 Data Partitioning and Evaluation Metrics"
   ]
  },
  {
   "cell_type": "code",
   "execution_count": 3,
   "id": "224af1ca-9cf6-4986-9f9f-e39a9b1a506b",
   "metadata": {
    "tags": []
   },
   "outputs": [],
   "source": [
    "mnist = np.load(f\"../cs189/data/mnist-data.npz\")\n",
    "mnist_training_data, mnist_training_labels = mnist['training_data'], mnist['training_labels']\n",
    "\n",
    "spam = np.load(f\"../cs189/data/spam-data.npz\")\n",
    "spam_training_data, spam_training_labels = spam['training_data'], spam['training_labels']"
   ]
  },
  {
   "cell_type": "markdown",
   "id": "001dcdf2-2152-4cd2-85bc-10429dae3560",
   "metadata": {
    "tags": []
   },
   "source": [
    "### (a) Data partitioning"
   ]
  },
  {
   "cell_type": "code",
   "execution_count": 4,
   "id": "05936ed6-0404-427b-b3e5-e19545d418b1",
   "metadata": {
    "tags": []
   },
   "outputs": [],
   "source": [
    "# Function that shuffles data given a dataset and its labels\n",
    "def shuffle_data_labels(data, labels):\n",
    "    data_points = np.arange(data.shape[0])\n",
    "    np.random.shuffle(data_points)\n",
    "    return [data[data_points], labels[data_points]]\n",
    "\n",
    "# Shuffle the datasets\n",
    "mnist_training_data, mnist_training_labels = shuffle_data_labels(mnist_training_data, mnist_training_labels)\n",
    "spam_training_data, spam_training_labels = shuffle_data_labels(spam_training_data, spam_training_labels)\n",
    "\n",
    "# Partition the shuffled datasets\n",
    "mnist_training_set_data, mnist_training_set_labels = mnist_training_data[10000:, :], mnist_training_labels[10000:]\n",
    "mnist_validation_set_data, mnist_validation_set_labels = mnist_training_data[:10000, :], mnist_training_labels[:10000]\n",
    "\n",
    "spam_training_data_len = spam_training_data.shape[0]\n",
    "spam_training_set_data, spam_training_set_labels = spam_training_data[:int(0.8 * spam_training_data_len), :], spam_training_labels[:int(0.8 * spam_training_data_len)]\n",
    "spam_validation_set_data, spam_validation_set_labels = spam_training_data[int(0.8 * spam_training_data_len):, :], spam_training_labels[int(0.8 * spam_training_data_len):]"
   ]
  },
  {
   "cell_type": "markdown",
   "id": "0efccf6e-de7a-469e-9907-15a7c9788d25",
   "metadata": {},
   "source": [
    "### (b) Evaluation metric"
   ]
  },
  {
   "cell_type": "code",
   "execution_count": 5,
   "id": "e87bba8a-d0d4-4ace-96aa-6bbcb357865b",
   "metadata": {
    "tags": []
   },
   "outputs": [],
   "source": [
    "def classification_accuracy(true_labels, pred_labels):\n",
    "    return np.mean(true_labels == pred_labels)"
   ]
  },
  {
   "cell_type": "markdown",
   "id": "4e724e76-0630-41a8-b4ff-0828bf64d22f",
   "metadata": {},
   "source": [
    "# 4 Support Vector Machines: Coding"
   ]
  },
  {
   "cell_type": "markdown",
   "id": "98db093b-242d-4c0a-bfe7-72a7b39aabef",
   "metadata": {},
   "source": [
    "We will use linear Support Vector Machines (SVMs) to classify our datasets. Train a linear SVM on the MNIST and spam datasets that you divided into training and validation sets in the previous problem. For each dataset, plot the classification accuracy (as defined in the previous problem) on the training and validation sets versus the number of training examples that you used to train your classifier. The number of training examples to use are listed for each dataset in the following parts. To evaluate validation accuracy, you should always use the same validation set obtained in the previous problem. To evaluate training accuracy, you should use the portion of the full training set that is actually used to train the model.\n",
    "\n",
    "You may use sklearn only for the SVM model. Everything else must be done without the use of sklearn. Note: You can use either SVC(kernel=’linear’) or LinearSVC as your SVM model, though they each solve slightly different optimization problems using different libraries."
   ]
  },
  {
   "cell_type": "code",
   "execution_count": 20,
   "id": "dc5b26b4-8b05-4042-aaba-d5c3c2bbabde",
   "metadata": {},
   "outputs": [],
   "source": [
    "def train(training_examples, training_set_data, training_set_labels):\n",
    "    classification_list = []\n",
    "    for num in training_examples:\n",
    "        classification = SVC(kernel='linear')\n",
    "        classification.fit(training_set_data[:num, :], training_set_labels[:num])\n",
    "        classification_list.append(classification)\n",
    "        print(f\"Training on {num} training examples...\")\n",
    "    print(\"Training complete!\")\n",
    "    return classification_list"
   ]
  },
  {
   "cell_type": "markdown",
   "id": "1452e3a3-d3fe-4071-a65b-aa5f1a54c93d",
   "metadata": {},
   "source": [
    "### (a) Train & Evaluate MNIST dataset"
   ]
  },
  {
   "cell_type": "code",
   "execution_count": 21,
   "id": "df61fe26-323f-49c3-bc8d-cc6046839a4d",
   "metadata": {},
   "outputs": [
    {
     "name": "stdout",
     "output_type": "stream",
     "text": [
      "Training on 100 training examples...\n",
      "Training on 200 training examples...\n",
      "Training on 500 training examples...\n",
      "Training on 1000 training examples...\n",
      "Training on 2000 training examples...\n",
      "Training on 5000 training examples...\n",
      "Training on 10000 training examples...\n",
      "Training complete!\n"
     ]
    }
   ],
   "source": [
    "# Train model\n",
    "mnist_training_set_data_flattened = mnist_training_set_data.reshape(mnist_training_set_data.shape[0], -1)\n",
    "mnist_training_examples = [100, 200, 500, 1000, 2000, 5000, 10000]\n",
    "mnist_classification_list = train(mnist_training_examples, mnist_training_set_data_flattened, mnist_training_set_labels)"
   ]
  },
  {
   "cell_type": "code",
   "execution_count": 22,
   "id": "db0557cf-e22d-4feb-ba6e-ac38193036b3",
   "metadata": {},
   "outputs": [],
   "source": [
    "# Evaluate accuracies\n",
    "mnist_training_accuracy_list = []\n",
    "mnist_validation_accuracy_list = []\n",
    "mnist_validation_set_data_flattened = mnist_validation_set_data.reshape(mnist_validation_set_data.shape[0], -1)\n",
    "for i in range(len(mnist_training_examples)):\n",
    "    num = mnist_training_examples[i]\n",
    "    training_predictions = mnist_classification_list[i].predict(mnist_training_set_data_flattened[:num, :])\n",
    "    validation_predictions = mnist_classification_list[i].predict(mnist_validation_set_data_flattened)\n",
    "    mnist_training_accuracy_list.append(classification_accuracy(mnist_training_set_labels[:num], training_predictions))\n",
    "    mnist_validation_accuracy_list.append(classification_accuracy(mnist_validation_set_labels, validation_predictions))"
   ]
  },
  {
   "cell_type": "code",
   "execution_count": 23,
   "id": "219007a0-7442-4303-a694-818502211f6b",
   "metadata": {},
   "outputs": [
    {
     "data": {
      "text/plain": [
       "<matplotlib.legend.Legend at 0x2c5e4b92208>"
      ]
     },
     "execution_count": 23,
     "metadata": {},
     "output_type": "execute_result"
    },
    {
     "data": {
      "image/png": "[encoded data removed]",
      "text/plain": [
       "<Figure size 640x480 with 1 Axes>"
      ]
     },
     "metadata": {},
     "output_type": "display_data"
    }
   ],
   "source": [
    "# Plot classification accuracy vs. number of training examples\n",
    "plt.plot(mnist_training_examples, mnist_training_accuracy_list, label='Training Set', marker=\"x\")\n",
    "plt.plot(mnist_training_examples, mnist_validation_accuracy_list, label='Validation Set', marker=\"x\")\n",
    "plt.xlabel('Number of training examples')\n",
    "plt.ylabel('Classification Accuracy')\n",
    "plt.grid(True)\n",
    "plt.title('MNIST Dataset Classifcation Accuracy')\n",
    "plt.legend()"
   ]
  },
  {
   "cell_type": "markdown",
   "id": "74742132-9129-4db2-ab75-9ee0d67751c8",
   "metadata": {},
   "source": [
    "### (b) Train & Evaluate Spam dataset"
   ]
  },
  {
   "cell_type": "code",
   "execution_count": 24,
   "id": "e5d85366-1078-4469-948a-ee9ab8a684bc",
   "metadata": {},
   "outputs": [
    {
     "name": "stdout",
     "output_type": "stream",
     "text": [
      "Training on 100 training examples...\n",
      "Training on 200 training examples...\n",
      "Training on 500 training examples...\n",
      "Training on 1000 training examples...\n",
      "Training on 2000 training examples...\n",
      "Training on 3336 training examples...\n",
      "Training complete!\n"
     ]
    }
   ],
   "source": [
    "# Train model\n",
    "spam_training_examples = [100, 200, 500, 1000, 2000, spam_training_set_data.shape[0]]\n",
    "spam_classification_list = train(spam_training_examples, spam_training_set_data, spam_training_set_labels)"
   ]
  },
  {
   "cell_type": "code",
   "execution_count": 25,
   "id": "41d81085-1c76-4c0d-b191-3ec740393a86",
   "metadata": {},
   "outputs": [],
   "source": [
    "# Evaluate accuracies\n",
    "spam_training_accuracy_list = []\n",
    "spam_validation_accuracy_list = []\n",
    "for i in range(len(spam_training_examples)):\n",
    "    num = spam_training_examples[i]\n",
    "    training_predictions = spam_classification_list[i].predict(spam_training_set_data[:num, :])\n",
    "    validation_predictions = spam_classification_list[i].predict(spam_validation_set_data)\n",
    "    spam_training_accuracy_list.append(classification_accuracy(spam_training_set_labels[:num], training_predictions))\n",
    "    spam_validation_accuracy_list.append(classification_accuracy(spam_validation_set_labels, validation_predictions))"
   ]
  },
  {
   "cell_type": "code",
   "execution_count": 26,
   "id": "1539363e-39ee-4df7-b37e-05ea94036a7a",
   "metadata": {},
   "outputs": [
    {
     "data": {
      "text/plain": [
       "<matplotlib.legend.Legend at 0x2c5e4cdcac8>"
      ]
     },
     "execution_count": 26,
     "metadata": {},
     "output_type": "execute_result"
    },
    {
     "data": {
      "image/png": "[encoded data removed]",
      "text/plain": [
       "<Figure size 640x480 with 1 Axes>"
      ]
     },
     "metadata": {},
     "output_type": "display_data"
    }
   ],
   "source": [
    "# Plot classification accuracy vs. number of training examples\n",
    "plt.plot(spam_training_examples, spam_training_accuracy_list, label='Training Set', marker=\"x\")\n",
    "plt.plot(spam_training_examples, spam_validation_accuracy_list, label='Validation Set', marker=\"x\")\n",
    "plt.xlabel('Number of training examples')\n",
    "plt.ylabel('Classification Accuracy')\n",
    "plt.grid(True)\n",
    "plt.title('Spam Dataset Classification Accuracy')\n",
    "plt.legend()"
   ]
  },
  {
   "cell_type": "markdown",
   "id": "d914010d",
   "metadata": {},
   "source": [
    "# 5 Hyperparameter Tuning"
   ]
  },
  {
   "cell_type": "code",
   "execution_count": 54,
   "id": "47e1f5d4",
   "metadata": {},
   "outputs": [],
   "source": [
    "C_list = [0.000000001, 0.000000005, 0.00000001, 0.00000005, 0.0000001, 0.0000005, 0.000001, 0.000005]\n",
    "mnist_classification_c_list = []\n",
    "mnist_training_set_data_flattened = mnist_training_set_data.reshape(mnist_training_set_data.shape[0], -1)\n",
    "\n",
    "for C in C_list:\n",
    "    model = SVC(kernel='linear', C=C, max_iter=1000000)\n",
    "    model.fit(mnist_training_set_data_flattened[:10000, :], mnist_training_set_labels[:10000])\n",
    "    mnist_classification_c_list.append(model)"
   ]
  },
  {
   "cell_type": "code",
   "execution_count": 57,
   "id": "3e6a377d",
   "metadata": {},
   "outputs": [
    {
     "name": "stdout",
     "output_type": "stream",
     "text": [
      "1e-09's training accuracy is 0.655, and its validation accuracy is 0.6496, \n",
      "5e-09's training accuracy is 0.8712, and its validation accuracy is 0.8611, \n",
      "1e-08's training accuracy is 0.8948, and its validation accuracy is 0.8816, \n",
      "5e-08's training accuracy is 0.9275, and its validation accuracy is 0.9082, \n",
      "1e-07's training accuracy is 0.9363, and its validation accuracy is 0.9154, \n",
      "5e-07's training accuracy is 0.9549, and its validation accuracy is 0.926, \n",
      "1e-06's training accuracy is 0.9646, and its validation accuracy is 0.9256, \n",
      "5e-06's training accuracy is 0.9857, and its validation accuracy is 0.9191, \n",
      "The best C is 5e-07 with validation accuracy 0.926.\n"
     ]
    }
   ],
   "source": [
    "best_c = 0\n",
    "best_val_acc = 0\n",
    "mnist_classification_val_acc_list = []\n",
    "mnist_classification_training_acc_list = []\n",
    "mnist_validation_set_data_flattened = mnist_validation_set_data.reshape(mnist_validation_set_data.shape[0], -1)\n",
    "for i, C in enumerate(C_list):\n",
    "    training_predictions = mnist_classification_c_list[i].predict(mnist_training_set_data_flattened[:10000, :])\n",
    "    training_acc = classification_accuracy(mnist_training_set_labels[:10000], training_predictions)\n",
    "    mnist_classification_training_acc_list.append(training_acc)\n",
    "    \n",
    "    val_predictions = mnist_classification_c_list[i].predict(mnist_validation_set_data_flattened)\n",
    "    val_acc = classification_accuracy(mnist_validation_set_labels, val_predictions)\n",
    "    mnist_classification_val_acc_list.append(val_acc)\n",
    "    \n",
    "    if val_acc >= best_val_acc:\n",
    "        best_val_acc = val_acc\n",
    "        best_c = C\n",
    "    \n",
    "    print(f\"{C_list[i]}'s training accuracy is {training_acc}, and its validation accuracy is {val_acc}.\")\n",
    "\n",
    "print(f\"The best C is {best_c} with validation accuracy {best_val_acc}.\")"
   ]
  },
  {
   "cell_type": "markdown",
   "id": "925afe7a",
   "metadata": {},
   "source": [
    "# 6 K-Fold Cross Validation "
   ]
  },
  {
   "cell_type": "code",
   "execution_count": 59,
   "id": "7639467c",
   "metadata": {},
   "outputs": [],
   "source": [
    "def indices_of_ith_partition(size, i, k):\n",
    "    indices = []\n",
    "    partition_size = size / k\n",
    "    index = partition_size * i\n",
    "    \n",
    "    while index < min(size, index + partition_size):\n",
    "        indices.append(int(index))\n",
    "        index += 1\n",
    "    \n",
    "    return np.array(indices)"
   ]
  },
  {
   "cell_type": "code",
   "execution_count": 62,
   "id": "044ab21d",
   "metadata": {},
   "outputs": [
    {
     "name": "stdout",
     "output_type": "stream",
     "text": [
      "1e-07's training accuracy is 0.9857, and its cross-validation accuracy is 0.9191.\n",
      "1e-07's training accuracy is 0.9857, and its cross-validation accuracy is 0.9191.\n",
      "1e-07's training accuracy is 0.9857, and its cross-validation accuracy is 0.9191.\n",
      "1e-07's training accuracy is 0.9857, and its cross-validation accuracy is 0.9191.\n",
      "1e-07's training accuracy is 0.9857, and its cross-validation accuracy is 0.9191.\n",
      "1e-07's training accuracy is 0.9857, and its cross-validation accuracy is 0.9191.\n",
      "1e-07's training accuracy is 0.9857, and its cross-validation accuracy is 0.9191.\n",
      "1e-07's training accuracy is 0.9857, and its cross-validation accuracy is 0.9191.\n",
      "The best C is 5e-06 with cross-validation accuracy 0.926.\n"
     ]
    }
   ],
   "source": [
    "k = 5\n",
    "best_c = 0\n",
    "best_cross_val_acc = 0\n",
    "spam_classification_cross_val_list = []\n",
    "spam_classification_cross_training_list = []\n",
    "for C in C_list:\n",
    "    sum_training_acc = 0\n",
    "    sum_val_acc = 0\n",
    "    for i in range(k):\n",
    "        model = SVC(kernel='linear', C=C, max_iter=1000000)\n",
    "        \n",
    "        spam_training_set_data_partition = spam_training_set_data[indices_of_ith_partition(spam_training_set_data.shape[0], i, k)]\n",
    "        spam_training_set_labels_partition = spam_training_set_labels[indices_of_ith_partition(spam_training_set_labels.shape[0], i, k)]\n",
    "        \n",
    "        model.fit(spam_training_set_data_partition, spam_training_set_labels_partition)\n",
    "        \n",
    "        # Maybe put it outside k-for loop\n",
    "        training_pred = model.predict(spam_training_set_data)\n",
    "        sum_training_acc += classification_accuracy(spam_training_set_labels, training_pred)\n",
    "        \n",
    "        val_pred = model.predict(spam_validation_set_data)    \n",
    "        sum_val_acc += classification_accuracy(spam_validation_set_labels, val_pred)\n",
    "    \n",
    "    avg_training_acc = sum_training_acc / float(k)\n",
    "    spam_classification_cross_training_list.append(avg_training_acc)\n",
    "    \n",
    "    avg_val_acc = sum_val_acc / float(k)\n",
    "    spam_classification_cross_val_list.append(avg_val_acc)\n",
    "    \n",
    "    if avg_val_acc >= best_cross_val_acc:\n",
    "        best_cross_val_acc = avg_val_acc\n",
    "        best_c = C\n",
    "    \n",
    "    print(f\"{C_list[i]}'s training accuracy is {training_acc}, and its cross-validation accuracy is {val_acc}.\")\n",
    "\n",
    "print(f\"The best C is {best_c} with cross-validation accuracy {best_val_acc}.\")"
   ]
  },
  {
   "cell_type": "code",
   "execution_count": null,
   "id": "4111502c",
   "metadata": {},
   "outputs": [],
   "source": []
  }
 ],
 "metadata": {
  "kernelspec": {
   "display_name": "Python 3 (ipykernel)",
   "language": "python",
   "name": "python3"
  },
  "language_info": {
   "codemirror_mode": {
    "name": "ipython",
    "version": 3
   },
   "file_extension": ".py",
   "mimetype": "text/x-python",
   "name": "python",
   "nbconvert_exporter": "python",
   "pygments_lexer": "ipython3",
   "version": "3.7.4"
  }
 },
 "nbformat": 4,
 "nbformat_minor": 5
}
